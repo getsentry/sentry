{
 "cells": [
  {
   "cell_type": "code",
   "execution_count": 10,
   "metadata": {},
   "outputs": [
    {
     "name": "stderr",
     "output_type": "stream",
     "text": [
      "/Users/jodi/sentry/src/sentry/runner/initializer.py:199: DeprecatedSettingWarning: The EMAIL_HOST setting is deprecated. Please use SENTRY_OPTIONS['mail.host'] instead.\n",
      "  warnings.warn(DeprecatedSettingWarning(options_mapper[k], \"SENTRY_OPTIONS['%s']\" % k))\n",
      "/Users/jodi/sentry/src/sentry/runner/initializer.py:199: DeprecatedSettingWarning: The EMAIL_PORT setting is deprecated. Please use SENTRY_OPTIONS['mail.port'] instead.\n",
      "  warnings.warn(DeprecatedSettingWarning(options_mapper[k], \"SENTRY_OPTIONS['%s']\" % k))\n",
      "/Users/jodi/sentry/src/sentry/runner/initializer.py:199: DeprecatedSettingWarning: The EMAIL_HOST_USER setting is deprecated. Please use SENTRY_OPTIONS['mail.username'] instead.\n",
      "  warnings.warn(DeprecatedSettingWarning(options_mapper[k], \"SENTRY_OPTIONS['%s']\" % k))\n",
      "/Users/jodi/sentry/src/sentry/runner/initializer.py:199: DeprecatedSettingWarning: The EMAIL_HOST_PASSWORD setting is deprecated. Please use SENTRY_OPTIONS['mail.password'] instead.\n",
      "  warnings.warn(DeprecatedSettingWarning(options_mapper[k], \"SENTRY_OPTIONS['%s']\" % k))\n",
      "/Users/jodi/sentry/src/sentry/runner/initializer.py:199: DeprecatedSettingWarning: The EMAIL_USE_TLS setting is deprecated. Please use SENTRY_OPTIONS['mail.use-tls'] instead.\n",
      "  warnings.warn(DeprecatedSettingWarning(options_mapper[k], \"SENTRY_OPTIONS['%s']\" % k))\n",
      "/Users/jodi/sentry/src/sentry/runner/initializer.py:199: DeprecatedSettingWarning: The EMAIL_USE_SSL setting is deprecated. Please use SENTRY_OPTIONS['mail.use-ssl'] instead.\n",
      "  warnings.warn(DeprecatedSettingWarning(options_mapper[k], \"SENTRY_OPTIONS['%s']\" % k))\n",
      "/Users/jodi/sentry/src/sentry/runner/initializer.py:199: DeprecatedSettingWarning: The SERVER_EMAIL setting is deprecated. Please use SENTRY_OPTIONS['mail.from'] instead.\n",
      "  warnings.warn(DeprecatedSettingWarning(options_mapper[k], \"SENTRY_OPTIONS['%s']\" % k))\n",
      "/Users/jodi/sentry/src/sentry/runner/initializer.py:199: DeprecatedSettingWarning: The EMAIL_SUBJECT_PREFIX setting is deprecated. Please use SENTRY_OPTIONS['mail.subject-prefix'] instead.\n",
      "  warnings.warn(DeprecatedSettingWarning(options_mapper[k], \"SENTRY_OPTIONS['%s']\" % k))\n",
      "/Users/jodi/sentry/src/sentry/runner/initializer.py:199: DeprecatedSettingWarning: The GITHUB_APP_ID setting is deprecated. Please use SENTRY_OPTIONS['github-login.client-id'] instead.\n",
      "  warnings.warn(DeprecatedSettingWarning(options_mapper[k], \"SENTRY_OPTIONS['%s']\" % k))\n",
      "/Users/jodi/sentry/src/sentry/runner/initializer.py:199: DeprecatedSettingWarning: The GITHUB_API_SECRET setting is deprecated. Please use SENTRY_OPTIONS['github-login.client-secret'] instead.\n",
      "  warnings.warn(DeprecatedSettingWarning(options_mapper[k], \"SENTRY_OPTIONS['%s']\" % k))\n",
      "/Users/jodi/sentry/src/sentry/runner/initializer.py:199: DeprecatedSettingWarning: The GITHUB_REQUIRE_VERIFIED_EMAIL setting is deprecated. Please use SENTRY_OPTIONS['github-login.require-verified-email'] instead.\n",
      "  warnings.warn(DeprecatedSettingWarning(options_mapper[k], \"SENTRY_OPTIONS['%s']\" % k))\n",
      "/Users/jodi/sentry/src/sentry/runner/initializer.py:199: DeprecatedSettingWarning: The GITHUB_BASE_DOMAIN setting is deprecated. Please use SENTRY_OPTIONS['github-login.base-domain'] instead.\n",
      "  warnings.warn(DeprecatedSettingWarning(options_mapper[k], \"SENTRY_OPTIONS['%s']\" % k))\n",
      "/Users/jodi/sentry/src/sentry/runner/initializer.py:199: DeprecatedSettingWarning: The GITHUB_API_DOMAIN setting is deprecated. Please use SENTRY_OPTIONS['github-login.api-domain'] instead.\n",
      "  warnings.warn(DeprecatedSettingWarning(options_mapper[k], \"SENTRY_OPTIONS['%s']\" % k))\n",
      "/Users/jodi/sentry/src/sentry/runner/initializer.py:199: DeprecatedSettingWarning: The GITHUB_EXTENDED_PERMISSIONS setting is deprecated. Please use SENTRY_OPTIONS['github-login.extended-permissions'] instead.\n",
      "  warnings.warn(DeprecatedSettingWarning(options_mapper[k], \"SENTRY_OPTIONS['%s']\" % k))\n",
      "/Users/jodi/sentry/src/sentry/runner/initializer.py:199: DeprecatedSettingWarning: The GITHUB_ORGANIZATION setting is deprecated. Please use SENTRY_OPTIONS['github-login.organization'] instead.\n",
      "  warnings.warn(DeprecatedSettingWarning(options_mapper[k], \"SENTRY_OPTIONS['%s']\" % k))\n"
     ]
    },
    {
     "ename": "Exception",
     "evalue": "Cannot specify both SENTRY_OPTIONS['redis.clusters'] option and SENTRY_REDIS_OPTIONS setting.",
     "output_type": "error",
     "traceback": [
      "\u001b[0;31m---------------------------------------------------------------------------\u001b[0m",
      "\u001b[0;31mException\u001b[0m                                 Traceback (most recent call last)",
      "Cell \u001b[0;32mIn[10], line 10\u001b[0m\n\u001b[1;32m      6\u001b[0m os\u001b[39m.\u001b[39menviron[\u001b[39m\"\u001b[39m\u001b[39mDJANGO_ALLOW_ASYNC_UNSAFE\u001b[39m\u001b[39m\"\u001b[39m] \u001b[39m=\u001b[39m \u001b[39m\"\u001b[39m\u001b[39mtrue\u001b[39m\u001b[39m\"\u001b[39m\n\u001b[1;32m      8\u001b[0m \u001b[39mfrom\u001b[39;00m \u001b[39msentry\u001b[39;00m\u001b[39m.\u001b[39;00m\u001b[39mrunner\u001b[39;00m \u001b[39mimport\u001b[39;00m configure\n\u001b[0;32m---> 10\u001b[0m configure()\n\u001b[1;32m     12\u001b[0m \u001b[39mfrom\u001b[39;00m \u001b[39msentence_transformers\u001b[39;00m \u001b[39mimport\u001b[39;00m SentenceTransformer\n\u001b[1;32m     14\u001b[0m \u001b[39mfrom\u001b[39;00m \u001b[39msentry\u001b[39;00m\u001b[39m.\u001b[39;00m\u001b[39mevent_manager\u001b[39;00m \u001b[39mimport\u001b[39;00m get_event_type\n",
      "File \u001b[0;32m~/sentry/src/sentry/runner/__init__.py:33\u001b[0m, in \u001b[0;36mconfigure\u001b[0;34m(skip_service_validation)\u001b[0m\n\u001b[1;32m     28\u001b[0m \u001b[39m# TODO(mattrobenolt): Surface this also as a CLI option?\u001b[39;00m\n\u001b[1;32m     29\u001b[0m skip_service_validation \u001b[39m=\u001b[39m skip_service_validation \u001b[39mor\u001b[39;00m (\n\u001b[1;32m     30\u001b[0m     \u001b[39m\"\u001b[39m\u001b[39mSENTRY_SKIP_BACKEND_VALIDATION\u001b[39m\u001b[39m\"\u001b[39m \u001b[39min\u001b[39;00m os\u001b[39m.\u001b[39menviron\n\u001b[1;32m     31\u001b[0m     \u001b[39mor\u001b[39;00m \u001b[39m\"\u001b[39m\u001b[39mSENTRY_SKIP_SERVICE_VALIDATION\u001b[39m\u001b[39m\"\u001b[39m \u001b[39min\u001b[39;00m os\u001b[39m.\u001b[39menviron\n\u001b[1;32m     32\u001b[0m )\n\u001b[0;32m---> 33\u001b[0m _configure(ctx, py, yaml, skip_service_validation)\n",
      "File \u001b[0;32m~/sentry/src/sentry/runner/settings.py:121\u001b[0m, in \u001b[0;36mconfigure\u001b[0;34m(ctx, py, yaml, skip_service_validation)\u001b[0m\n\u001b[1;32m    117\u001b[0m \u001b[39mhasattr\u001b[39m(settings, \u001b[39m\"\u001b[39m\u001b[39mINSTALLED_APPS\u001b[39m\u001b[39m\"\u001b[39m)\n\u001b[1;32m    119\u001b[0m \u001b[39mfrom\u001b[39;00m \u001b[39m.\u001b[39;00m\u001b[39minitializer\u001b[39;00m \u001b[39mimport\u001b[39;00m initialize_app\n\u001b[0;32m--> 121\u001b[0m initialize_app(\n\u001b[1;32m    122\u001b[0m     {\u001b[39m\"\u001b[39;49m\u001b[39mconfig_path\u001b[39;49m\u001b[39m\"\u001b[39;49m: py, \u001b[39m\"\u001b[39;49m\u001b[39msettings\u001b[39;49m\u001b[39m\"\u001b[39;49m: settings, \u001b[39m\"\u001b[39;49m\u001b[39moptions\u001b[39;49m\u001b[39m\"\u001b[39;49m: yaml},\n\u001b[1;32m    123\u001b[0m     skip_service_validation\u001b[39m=\u001b[39;49mskip_service_validation,\n\u001b[1;32m    124\u001b[0m )\n\u001b[1;32m    126\u001b[0m \u001b[39mif\u001b[39;00m os\u001b[39m.\u001b[39menviron\u001b[39m.\u001b[39mget(\u001b[39m\"\u001b[39m\u001b[39mOPENAPIGENERATE\u001b[39m\u001b[39m\"\u001b[39m, \u001b[39mFalse\u001b[39;00m):\n\u001b[1;32m    127\u001b[0m     \u001b[39m# see https://drf-spectacular.readthedocs.io/en/latest/customization.html#step-5-extensions\u001b[39;00m\n\u001b[1;32m    128\u001b[0m     \u001b[39mfrom\u001b[39;00m \u001b[39msentry\u001b[39;00m\u001b[39m.\u001b[39;00m\u001b[39mapidocs\u001b[39;00m \u001b[39mimport\u001b[39;00m extensions  \u001b[39m# NOQA\u001b[39;00m\n",
      "File \u001b[0;32m~/sentry/src/sentry/runner/initializer.py:376\u001b[0m, in \u001b[0;36minitialize_app\u001b[0;34m(config, skip_service_validation)\u001b[0m\n\u001b[1;32m    372\u001b[0m monkeypatch_django_migrations()\n\u001b[1;32m    374\u001b[0m patch_silo_aware_atomic()\n\u001b[0;32m--> 376\u001b[0m apply_legacy_settings(settings)\n\u001b[1;32m    378\u001b[0m bind_cache_to_option_store()\n\u001b[1;32m    380\u001b[0m register_plugins(settings)\n",
      "File \u001b[0;32m~/sentry/src/sentry/runner/initializer.py:563\u001b[0m, in \u001b[0;36mapply_legacy_settings\u001b[0;34m(settings)\u001b[0m\n\u001b[1;32m    561\u001b[0m \u001b[39mif\u001b[39;00m \u001b[39mhasattr\u001b[39m(settings, \u001b[39m\"\u001b[39m\u001b[39mSENTRY_REDIS_OPTIONS\u001b[39m\u001b[39m\"\u001b[39m):\n\u001b[1;32m    562\u001b[0m     \u001b[39mif\u001b[39;00m \u001b[39m\"\u001b[39m\u001b[39mredis.clusters\u001b[39m\u001b[39m\"\u001b[39m \u001b[39min\u001b[39;00m settings\u001b[39m.\u001b[39mSENTRY_OPTIONS:\n\u001b[0;32m--> 563\u001b[0m         \u001b[39mraise\u001b[39;00m \u001b[39mException\u001b[39;00m(\n\u001b[1;32m    564\u001b[0m             \u001b[39m\"\u001b[39m\u001b[39mCannot specify both SENTRY_OPTIONS[\u001b[39m\u001b[39m'\u001b[39m\u001b[39mredis.clusters\u001b[39m\u001b[39m'\u001b[39m\u001b[39m] option and SENTRY_REDIS_OPTIONS setting.\u001b[39m\u001b[39m\"\u001b[39m\n\u001b[1;32m    565\u001b[0m         )\n\u001b[1;32m    566\u001b[0m     \u001b[39melse\u001b[39;00m:\n\u001b[1;32m    567\u001b[0m         warnings\u001b[39m.\u001b[39mwarn(\n\u001b[1;32m    568\u001b[0m             DeprecatedSettingWarning(\n\u001b[1;32m    569\u001b[0m                 \u001b[39m\"\u001b[39m\u001b[39mSENTRY_REDIS_OPTIONS\u001b[39m\u001b[39m\"\u001b[39m,\n\u001b[0;32m   (...)\u001b[0m\n\u001b[1;32m    572\u001b[0m             )\n\u001b[1;32m    573\u001b[0m         )\n",
      "\u001b[0;31mException\u001b[0m: Cannot specify both SENTRY_OPTIONS['redis.clusters'] option and SENTRY_REDIS_OPTIONS setting."
     ]
    }
   ],
   "source": [
    "import warnings\n",
    "warnings.filterwarnings('ignore')\n",
    "import numpy as np\n",
    "import os\n",
    "from sklearn.metrics.pairwise import cosine_similarity\n",
    "os.environ[\"DJANGO_ALLOW_ASYNC_UNSAFE\"] = \"True\"\n",
    "\n",
    "from sentry.runner import configure\n",
    "\n",
    "configure()\n",
    "\n",
    "from sentence_transformers import SentenceTransformer\n",
    "\n",
    "from sentry.event_manager import get_event_type\n",
    "from sentry.eventstore.models import Event\n",
    "from sentry.grouping.grouping_info import get_grouping_info\n",
    "from sentry.seer.similarity.utils import get_stacktrace_string\n",
    "from sentry.utils import json\n",
    "from sentry.grouping.grouping_info import get_grouping_info_from_variants\n",
    "\n",
    "model = SentenceTransformer(\"jinaai/jina-embeddings-v2-base-code\", trust_remote_code=True)\n",
    "init = model.encode('i')\n"
   ]
  },
  {
   "cell_type": "code",
   "execution_count": null,
   "metadata": {},
   "outputs": [],
   "source": [
    "def prettify_grouping_output(output):\n",
    "    prettified = \"\"\n",
    "    for item in output:\n",
    "        name, level = item\n",
    "        prettified += \" \" * level + name + \"\\n\"\n",
    "    return prettified\n",
    "\n",
    "def recurse_grouping_variant(ret, component, level):\n",
    "    if component['contributes'] and component['name']:\n",
    "        ret.append([component['name'], level])\n",
    "    if component['values']:\n",
    "        for value in component['values']:\n",
    "            if isinstance(value, dict) and component['contributes']:\n",
    "                recurse_grouping_variant(ret, value, level+1)\n",
    "            else:\n",
    "                if component['contributes'] and value:\n",
    "                    ret.append([value, level])\n",
    "    \n",
    "    if level == 0:\n",
    "        return ret\n",
    "\n",
    "def debug_grouping_variant(variant):\n",
    "    ret = []\n",
    "    recurse_grouping_variant(ret, variant['component'], 0)\n",
    "    return prettify_grouping_output(ret)\n",
    "\n",
    "\n",
    "\n",
    "def get_seer_input(event):\n",
    "    grouping_info = get_grouping_info(None, project=1, event=event)\n",
    "    stacktrace_string = get_stacktrace_string(grouping_info)\n",
    "    return stacktrace_string\n",
    "\n",
    "\n",
    "def get_event(path):\n",
    "    with open(path, \"r\") as f:\n",
    "        event_json = json.load(f)\n",
    "\n",
    "    event = Event(\n",
    "        event_id=event_json[\"event_id\"],\n",
    "        project_id=1,\n",
    "        group_id=None,\n",
    "    )\n",
    "    event.data = event_json\n",
    "    return event\n",
    "\n",
    "\n",
    "event1 = get_event(\"event1.json\")\n",
    "event2 = get_event(\"event2.json\")\n",
    "\n",
    "seer_input1 = get_seer_input(event1)\n",
    "seer_input2 = get_seer_input(event2)\n",
    "\n",
    "e1 = model.encode(seer_input1)\n",
    "e2 = model.encode(seer_input2)\n",
    "event1_group_info = get_grouping_info_from_variants(event1.get_grouping_variants())['app']\n",
    "event2_group_info = get_grouping_info_from_variants(event2.get_grouping_variants())['app']\n",
    "\n",
    "\n",
    "\n",
    "\n"
   ]
  },
  {
   "cell_type": "code",
   "execution_count": null,
   "metadata": {},
   "outputs": [],
   "source": [
    "print(f\"event1 hash: {event1.get_primary_hash()}\")\n",
    "print(f\"event2 hash: {event2.get_primary_hash()}\")\n",
    "print()\n",
    "print(\"seer_input event1\")\n",
    "print()\n",
    "print(seer_input1)\n",
    "print()\n",
    "print(\"seer_input event2\")\n",
    "print()\n",
    "print(seer_input2)\n",
    "print()\n",
    "print('similarity:',cosine_similarity(np.array(e1).reshape(1, -1), np.array(e2).reshape(1, -1))[0][0])\n",
    "print()\n",
    "print('info used for grouping:')\n",
    "print()\n",
    "print('event1:')\n",
    "print(debug_grouping_variant(event1_group_info))\n",
    "print()\n",
    "print('event2:')\n",
    "print(debug_grouping_variant(event2_group_info))\n"
   ]
  },
  {
   "cell_type": "code",
   "execution_count": 17,
   "metadata": {},
   "outputs": [
    {
     "name": "stdout",
     "output_type": "stream",
     "text": [
      "Api info 404 The User 2db296ed-71da-4fe6-8404-df1db4704c79 does not exist!: The User <uuid> does not exist!\n",
      "  File \"errorservice.js\", function errorHandler\n",
      "    Sentry.withScope(function (scope) {\n",
      "  File \"errorservice.js\", function <anonymous>\n",
      "    e = new ApiErrorService(error.code, error.message, error.type, 'info');\n"
     ]
    }
   ],
   "source": [
    "from sentry.seer.similarity.utils import get_stacktrace_string\n",
    "s = {\"system\":{\"key\":\"system\",\"type\":\"component\",\"description\":\"exception stack-trace\",\"hash\":\"0398a1bb8c73828ef2f51c9fa1068d2d\",\"component\":{\"id\":\"system\",\"name\":None,\"contributes\":True,\"hint\":None,\"values\":[{\"id\":\"exception\",\"name\":\"exception\",\"contributes\":True,\"hint\":None,\"values\":[{\"id\":\"stacktrace\",\"name\":\"stack-trace\",\"contributes\":True,\"hint\":None,\"values\":[{\"id\":\"frame\",\"name\":None,\"contributes\":False,\"hint\":\"ignored by stack trace rule (path:**/*newrelic*/** -app -group)\",\"values\":[{\"id\":\"module\",\"name\":None,\"contributes\":True,\"hint\":None,\"values\":[\"newrelic.lib.shim:shim\"]},{\"id\":\"filename\",\"name\":None,\"contributes\":False,\"hint\":\"module takes precedence\",\"values\":[\"shim.js\"]},{\"id\":\"function\",\"name\":None,\"contributes\":True,\"hint\":None,\"values\":[\"_doRecord\"]},{\"id\":\"context-line\",\"name\":None,\"contributes\":True,\"hint\":None,\"values\":[\"let ret = _applyRecorderSegment({ segment, ctx: this, args, segDesc, shim, fn, name })\"]}]},{\"id\":\"frame\",\"name\":None,\"contributes\":False,\"hint\":\"ignored by stack trace rule (path:**/*newrelic*/** -app -group)\",\"values\":[{\"id\":\"module\",\"name\":None,\"contributes\":True,\"hint\":None,\"values\":[\"newrelic.lib.shim:shim\"]},{\"id\":\"filename\",\"name\":None,\"contributes\":False,\"hint\":\"module takes precedence\",\"values\":[\"shim.js\"]},{\"id\":\"function\",\"name\":None,\"contributes\":True,\"hint\":None,\"values\":[\"_applyRecorderSegment\"]},{\"id\":\"context-line\",\"name\":None,\"contributes\":True,\"hint\":None,\"values\":[\"ret = shim.applySegment(fn, segment, True, ctx, args, segDesc.inContext)\"]}]},{\"id\":\"frame\",\"name\":None,\"contributes\":False,\"hint\":\"ignored by stack trace rule (path:**/*newrelic*/** -app -group)\",\"values\":[{\"id\":\"module\",\"name\":None,\"contributes\":True,\"hint\":None,\"values\":[\"newrelic.lib.shim:shim\"]},{\"id\":\"filename\",\"name\":None,\"contributes\":False,\"hint\":\"module takes precedence\",\"values\":[\"shim.js\"]},{\"id\":\"function\",\"name\":None,\"contributes\":True,\"hint\":\"trimmed javascript function\",\"values\":[\"applySegment\"]},{\"id\":\"context-line\",\"name\":None,\"contributes\":True,\"hint\":None,\"values\":[\"return contextManager.runInContext(segment, function runInContextCb() {\"]}]},{\"id\":\"frame\",\"name\":None,\"contributes\":False,\"hint\":\"ignored by stack trace rule (path:**/*newrelic*/** -app -group)\",\"values\":[{\"id\":\"module\",\"name\":None,\"contributes\":True,\"hint\":None,\"values\":[\"newrelic.lib.context-manager:async-local-context-manager\"]},{\"id\":\"filename\",\"name\":None,\"contributes\":False,\"hint\":\"module takes precedence\",\"values\":[\"async-local-context-manager.js\"]},{\"id\":\"function\",\"name\":None,\"contributes\":True,\"hint\":\"trimmed javascript function\",\"values\":[\"runInContext\"]},{\"id\":\"context-line\",\"name\":None,\"contributes\":True,\"hint\":None,\"values\":[\"return this._asyncLocalStorage.run(context, toInvoke)\"]}]},{\"id\":\"frame\",\"name\":None,\"contributes\":True,\"hint\":None,\"values\":[{\"id\":\"module\",\"name\":None,\"contributes\":True,\"hint\":None,\"values\":[\"node:async_hooks\"]},{\"id\":\"filename\",\"name\":None,\"contributes\":False,\"hint\":\"module takes precedence\",\"values\":[\"node:async_hooks\"]},{\"id\":\"function\",\"name\":None,\"contributes\":True,\"hint\":\"trimmed javascript function\",\"values\":[\"run\"]},{\"id\":\"context-line\",\"name\":None,\"contributes\":None,\"hint\":None,\"values\":[]}]},{\"id\":\"frame\",\"name\":None,\"contributes\":False,\"hint\":\"ignored by stack trace rule (path:**/*newrelic*/** -app -group)\",\"values\":[{\"id\":\"module\",\"name\":None,\"contributes\":True,\"hint\":None,\"values\":[\"newrelic.lib.shim:shim\"]},{\"id\":\"filename\",\"name\":None,\"contributes\":False,\"hint\":\"module takes precedence\",\"values\":[\"shim.js\"]},{\"id\":\"function\",\"name\":None,\"contributes\":True,\"hint\":None,\"values\":[\"runInContextCb\"]},{\"id\":\"context-line\",\"name\":None,\"contributes\":True,\"hint\":None,\"values\":[\"return fnApply.call(func, context, args)\"]}]},{\"id\":\"frame\",\"name\":None,\"contributes\":True,\"hint\":None,\"values\":[{\"id\":\"module\",\"name\":None,\"contributes\":True,\"hint\":None,\"values\":[\"services:ErrorService\"]},{\"id\":\"filename\",\"name\":None,\"contributes\":False,\"hint\":\"module takes precedence\",\"values\":[\"errorservice.js\"]},{\"id\":\"function\",\"name\":None,\"contributes\":True,\"hint\":\"trimmed javascript function\",\"values\":[\"errorHandler\"]},{\"id\":\"context-line\",\"name\":None,\"contributes\":True,\"hint\":None,\"values\":[\"Sentry.withScope(function (scope) {\"]}]},{\"id\":\"frame\",\"name\":None,\"contributes\":True,\"hint\":None,\"values\":[{\"id\":\"module\",\"name\":None,\"contributes\":True,\"hint\":None,\"values\":[\"@sentry.core.cjs:exports\"]},{\"id\":\"filename\",\"name\":None,\"contributes\":False,\"hint\":\"module takes precedence\",\"values\":[\"exports.js\"]},{\"id\":\"function\",\"name\":None,\"contributes\":True,\"hint\":\"trimmed javascript function\",\"values\":[\"withScope\"]},{\"id\":\"context-line\",\"name\":None,\"contributes\":True,\"hint\":None,\"values\":[\"return hub$1.withScope(rest[0]);\"]}]},{\"id\":\"frame\",\"name\":None,\"contributes\":True,\"hint\":None,\"values\":[{\"id\":\"module\",\"name\":None,\"contributes\":True,\"hint\":None,\"values\":[\"@sentry.core.cjs:hub\"]},{\"id\":\"filename\",\"name\":None,\"contributes\":False,\"hint\":\"module takes precedence\",\"values\":[\"hub.js\"]},{\"id\":\"function\",\"name\":None,\"contributes\":True,\"hint\":\"trimmed javascript function\",\"values\":[\"withScope\"]},{\"id\":\"context-line\",\"name\":None,\"contributes\":True,\"hint\":None,\"values\":[\"maybePromiseResult = callback(scope);\"]}]},{\"id\":\"frame\",\"name\":None,\"contributes\":True,\"hint\":None,\"values\":[{\"id\":\"module\",\"name\":None,\"contributes\":True,\"hint\":None,\"values\":[\"services:ErrorService\"]},{\"id\":\"filename\",\"name\":None,\"contributes\":False,\"hint\":\"module takes precedence\",\"values\":[\"errorservice.js\"]},{\"id\":\"function\",\"name\":None,\"contributes\":False,\"hint\":\"ignored unknown function name\",\"values\":[\"<anonymous>\"]},{\"id\":\"context-line\",\"name\":None,\"contributes\":True,\"hint\":None,\"values\":[\"e = new ApiErrorService(error.code, error.message, error.type, 'info');\"]}]}]},{\"id\":\"type\",\"name\":None,\"contributes\":True,\"hint\":None,\"values\":[\"Api info 404 The User 2db296ed-71da-4fe6-8404-df1db4704c79 does not exist!\"]},{\"id\":\"value\",\"name\":None,\"contributes\":False,\"hint\":\"ignored because stacktrace takes precedence\",\"values\":[\"The User <uuid> does not exist!\"]}]}]},\"config\":{\"id\":\"newstyle:2023-01-11\",\"base\":\"newstyle:2019-10-29\",\"strategies\":[\"chained-exception:v1\",\"csp:v1\",\"expect-ct:v1\",\"expect-staple:v1\",\"hpkp:v1\",\"message:v1\",\"stacktrace:v1\",\"template:v1\",\"threads:v1\"],\"changelog\":\"* Added new language/platform specific stack trace grouping enhancements rules\\n  that should make the default grouping experience better.\\n  This includes JavaScript, Python, PHP, Go, Java and Kotlin.\\n* Added ChukloadErrors via new built-in fingerprinting support.\",\"delegates\":[\"frame:v1\",\"single-exception:v1\",\"stacktrace:v1\"],\"hidden\":False,\"risk\":1,\"latest\":True},\"hashMismatch\":False},\"app\":{\"key\":\"app\",\"type\":\"component\",\"description\":\"in-app exception stack-trace\",\"hash\":\"db1146368e57d26cc2a8fe65ad65fd21\",\"component\":{\"id\":\"app\",\"name\":\"in-app\",\"contributes\":True,\"hint\":None,\"values\":[{\"id\":\"exception\",\"name\":\"exception\",\"contributes\":True,\"hint\":None,\"values\":[{\"id\":\"stacktrace\",\"name\":\"stack-trace\",\"contributes\":True,\"hint\":None,\"values\":[{\"id\":\"frame\",\"name\":None,\"contributes\":False,\"hint\":\"marked out of app by stack trace rule (path:**/*newrelic*/** -app -group)\",\"values\":[{\"id\":\"module\",\"name\":None,\"contributes\":True,\"hint\":None,\"values\":[\"newrelic.lib.shim:shim\"]},{\"id\":\"filename\",\"name\":None,\"contributes\":False,\"hint\":\"module takes precedence\",\"values\":[\"shim.js\"]},{\"id\":\"function\",\"name\":None,\"contributes\":True,\"hint\":None,\"values\":[\"_doRecord\"]},{\"id\":\"context-line\",\"name\":None,\"contributes\":True,\"hint\":None,\"values\":[\"let ret = _applyRecorderSegment({ segment, ctx: this, args, segDesc, shim, fn, name })\"]}]},{\"id\":\"frame\",\"name\":None,\"contributes\":False,\"hint\":\"marked out of app by stack trace rule (path:**/*newrelic*/** -app -group)\",\"values\":[{\"id\":\"module\",\"name\":None,\"contributes\":True,\"hint\":None,\"values\":[\"newrelic.lib.shim:shim\"]},{\"id\":\"filename\",\"name\":None,\"contributes\":False,\"hint\":\"module takes precedence\",\"values\":[\"shim.js\"]},{\"id\":\"function\",\"name\":None,\"contributes\":True,\"hint\":None,\"values\":[\"_applyRecorderSegment\"]},{\"id\":\"context-line\",\"name\":None,\"contributes\":True,\"hint\":None,\"values\":[\"ret = shim.applySegment(fn, segment, True, ctx, args, segDesc.inContext)\"]}]},{\"id\":\"frame\",\"name\":None,\"contributes\":False,\"hint\":\"marked out of app by stack trace rule (path:**/*newrelic*/** -app -group)\",\"values\":[{\"id\":\"module\",\"name\":None,\"contributes\":True,\"hint\":None,\"values\":[\"newrelic.lib.shim:shim\"]},{\"id\":\"filename\",\"name\":None,\"contributes\":False,\"hint\":\"module takes precedence\",\"values\":[\"shim.js\"]},{\"id\":\"function\",\"name\":None,\"contributes\":True,\"hint\":\"trimmed javascript function\",\"values\":[\"applySegment\"]},{\"id\":\"context-line\",\"name\":None,\"contributes\":True,\"hint\":None,\"values\":[\"return contextManager.runInContext(segment, function runInContextCb() {\"]}]},{\"id\":\"frame\",\"name\":None,\"contributes\":False,\"hint\":\"marked out of app by stack trace rule (path:**/*newrelic*/** -app -group)\",\"values\":[{\"id\":\"module\",\"name\":None,\"contributes\":True,\"hint\":None,\"values\":[\"newrelic.lib.context-manager:async-local-context-manager\"]},{\"id\":\"filename\",\"name\":None,\"contributes\":False,\"hint\":\"module takes precedence\",\"values\":[\"async-local-context-manager.js\"]},{\"id\":\"function\",\"name\":None,\"contributes\":True,\"hint\":\"trimmed javascript function\",\"values\":[\"runInContext\"]},{\"id\":\"context-line\",\"name\":None,\"contributes\":True,\"hint\":None,\"values\":[\"return this._asyncLocalStorage.run(context, toInvoke)\"]}]},{\"id\":\"frame\",\"name\":None,\"contributes\":False,\"hint\":\"non app frame\",\"values\":[{\"id\":\"module\",\"name\":None,\"contributes\":True,\"hint\":None,\"values\":[\"node:async_hooks\"]},{\"id\":\"filename\",\"name\":None,\"contributes\":False,\"hint\":\"module takes precedence\",\"values\":[\"node:async_hooks\"]},{\"id\":\"function\",\"name\":None,\"contributes\":True,\"hint\":\"trimmed javascript function\",\"values\":[\"run\"]},{\"id\":\"context-line\",\"name\":None,\"contributes\":None,\"hint\":None,\"values\":[]}]},{\"id\":\"frame\",\"name\":None,\"contributes\":False,\"hint\":\"marked out of app by stack trace rule (path:**/*newrelic*/** -app -group)\",\"values\":[{\"id\":\"module\",\"name\":None,\"contributes\":True,\"hint\":None,\"values\":[\"newrelic.lib.shim:shim\"]},{\"id\":\"filename\",\"name\":None,\"contributes\":False,\"hint\":\"module takes precedence\",\"values\":[\"shim.js\"]},{\"id\":\"function\",\"name\":None,\"contributes\":True,\"hint\":None,\"values\":[\"runInContextCb\"]},{\"id\":\"context-line\",\"name\":None,\"contributes\":True,\"hint\":None,\"values\":[\"return fnApply.call(func, context, args)\"]}]},{\"id\":\"frame\",\"name\":None,\"contributes\":True,\"hint\":None,\"values\":[{\"id\":\"module\",\"name\":None,\"contributes\":True,\"hint\":None,\"values\":[\"services:ErrorService\"]},{\"id\":\"filename\",\"name\":None,\"contributes\":False,\"hint\":\"module takes precedence\",\"values\":[\"errorservice.js\"]},{\"id\":\"function\",\"name\":None,\"contributes\":True,\"hint\":\"trimmed javascript function\",\"values\":[\"errorHandler\"]},{\"id\":\"context-line\",\"name\":None,\"contributes\":True,\"hint\":None,\"values\":[\"Sentry.withScope(function (scope) {\"]}]},{\"id\":\"frame\",\"name\":None,\"contributes\":False,\"hint\":\"marked out of app by stack trace rule (path:**/node_modules/** -app)\",\"values\":[{\"id\":\"module\",\"name\":None,\"contributes\":True,\"hint\":None,\"values\":[\"@sentry.core.cjs:exports\"]},{\"id\":\"filename\",\"name\":None,\"contributes\":False,\"hint\":\"module takes precedence\",\"values\":[\"exports.js\"]},{\"id\":\"function\",\"name\":None,\"contributes\":True,\"hint\":\"trimmed javascript function\",\"values\":[\"withScope\"]},{\"id\":\"context-line\",\"name\":None,\"contributes\":True,\"hint\":None,\"values\":[\"return hub$1.withScope(rest[0]);\"]}]},{\"id\":\"frame\",\"name\":None,\"contributes\":False,\"hint\":\"marked out of app by stack trace rule (path:**/node_modules/** -app)\",\"values\":[{\"id\":\"module\",\"name\":None,\"contributes\":True,\"hint\":None,\"values\":[\"@sentry.core.cjs:hub\"]},{\"id\":\"filename\",\"name\":None,\"contributes\":False,\"hint\":\"module takes precedence\",\"values\":[\"hub.js\"]},{\"id\":\"function\",\"name\":None,\"contributes\":True,\"hint\":\"trimmed javascript function\",\"values\":[\"withScope\"]},{\"id\":\"context-line\",\"name\":None,\"contributes\":True,\"hint\":None,\"values\":[\"maybePromiseResult = callback(scope);\"]}]},{\"id\":\"frame\",\"name\":None,\"contributes\":True,\"hint\":None,\"values\":[{\"id\":\"module\",\"name\":None,\"contributes\":True,\"hint\":None,\"values\":[\"services:ErrorService\"]},{\"id\":\"filename\",\"name\":None,\"contributes\":False,\"hint\":\"module takes precedence\",\"values\":[\"errorservice.js\"]},{\"id\":\"function\",\"name\":None,\"contributes\":False,\"hint\":\"ignored unknown function name\",\"values\":[\"<anonymous>\"]},{\"id\":\"context-line\",\"name\":None,\"contributes\":True,\"hint\":None,\"values\":[\"e = new ApiErrorService(error.code, error.message, error.type, 'info');\"]}]}]},{\"id\":\"type\",\"name\":None,\"contributes\":True,\"hint\":None,\"values\":[\"Api info 404 The User 2db296ed-71da-4fe6-8404-df1db4704c79 does not exist!\"]},{\"id\":\"value\",\"name\":None,\"contributes\":False,\"hint\":\"ignored because stacktrace takes precedence\",\"values\":[\"The User <uuid> does not exist!\"]}]}]},\"config\":{\"id\":\"newstyle:2023-01-11\",\"base\":\"newstyle:2019-10-29\",\"strategies\":[\"chained-exception:v1\",\"csp:v1\",\"expect-ct:v1\",\"expect-staple:v1\",\"hpkp:v1\",\"message:v1\",\"stacktrace:v1\",\"template:v1\",\"threads:v1\"],\"changelog\":\"* Added new language/platform specific stack trace grouping enhancements rules\\n  that should make the default grouping experience better.\\n  This includes JavaScript, Python, PHP, Go, Java and Kotlin.\\n* Added ChukloadErrors via new built-in fingerprinting support.\",\"delegates\":[\"frame:v1\",\"single-exception:v1\",\"stacktrace:v1\"],\"hidden\":False,\"risk\":1,\"latest\":True},\"hashMismatch\":False}}\n",
    "stacktrace_string = get_stacktrace_string(s)\n",
    "print(stacktrace_string)\n"
   ]
  }
 ],
 "metadata": {
  "kernelspec": {
   "display_name": "Python 3.11.8 ('.venv': venv)",
   "language": "python",
   "name": "python3"
  },
  "language_info": {
   "codemirror_mode": {
    "name": "ipython",
    "version": 3
   },
   "file_extension": ".py",
   "mimetype": "text/x-python",
   "name": "python",
   "nbconvert_exporter": "python",
   "pygments_lexer": "ipython3",
   "version": "3.11.8"
  },
  "vscode": {
   "interpreter": {
    "hash": "95b4c6f4598467fdbeee0a998ac4a3b7f54a3e6a30de76c0fe6365d1e271382c"
   }
  }
 },
 "nbformat": 4,
 "nbformat_minor": 2
}
